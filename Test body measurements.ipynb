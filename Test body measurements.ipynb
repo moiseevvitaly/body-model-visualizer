{
 "cells": [
  {
   "cell_type": "code",
   "execution_count": 1,
   "id": "dd5abff3",
   "metadata": {},
   "outputs": [],
   "source": [
    "import numpy as np\n",
    "import os\n",
    "\n",
    "from body_measurements.measurement import Body3D"
   ]
  },
  {
   "cell_type": "code",
   "execution_count": 2,
   "id": "2f54fa55",
   "metadata": {},
   "outputs": [],
   "source": [
    "from smplx import SMPL"
   ]
  },
  {
   "cell_type": "code",
   "execution_count": 3,
   "id": "b0ff4f7c",
   "metadata": {},
   "outputs": [],
   "source": [
    "model = SMPL('data/body_models/smpl')"
   ]
  },
  {
   "cell_type": "code",
   "execution_count": 4,
   "id": "04eb5c24",
   "metadata": {},
   "outputs": [],
   "source": [
    "model_output = model()"
   ]
  },
  {
   "cell_type": "code",
   "execution_count": 5,
   "id": "c68d1999",
   "metadata": {},
   "outputs": [
    {
     "data": {
      "text/plain": [
       "array([[ 0.04487304,  0.49407476,  0.08962061],\n",
       "       [ 0.03947177,  0.4813834 ,  0.09960105],\n",
       "       [ 0.05001033,  0.47607607,  0.09099279],\n",
       "       ...,\n",
       "       [-0.0747897 ,  0.4280528 ,  0.00464639],\n",
       "       [-0.07539963,  0.42922547,  0.00667244],\n",
       "       [-0.07775019,  0.42762733,  0.00917185]], dtype=float32)"
      ]
     },
     "execution_count": 5,
     "metadata": {},
     "output_type": "execute_result"
    }
   ],
   "source": [
    "model_output.vertices.detach().numpy()[0]"
   ]
  },
  {
   "cell_type": "code",
   "execution_count": null,
   "id": "b0a51aec",
   "metadata": {},
   "outputs": [],
   "source": []
  },
  {
   "cell_type": "code",
   "execution_count": null,
   "id": "e7d7b2ba",
   "metadata": {},
   "outputs": [],
   "source": [
    "body = Body3D(model_output.vertices.detach().numpy()[0], model.faces)"
   ]
  },
  {
   "cell_type": "code",
   "execution_count": null,
   "id": "27baa4ff",
   "metadata": {},
   "outputs": [],
   "source": [
    "from matplotlib import pyplot as plt\n",
    "%pylab inline"
   ]
  },
  {
   "cell_type": "code",
   "execution_count": null,
   "id": "3fe93ad2",
   "metadata": {},
   "outputs": [],
   "source": [
    "import torch\n",
    "x = []\n",
    "height = []\n",
    "weight = []\n",
    "chest = []\n",
    "hip = []\n",
    "pose_params = torch.zeros(1,69)\n",
    "pose_params[0][47] = 5.6\n",
    "pose_params[0][50] = -5.6\n",
    "for i in range(100):\n",
    "    beta = float(i - 50) / 25.\n",
    "    betas = torch.tensor([[beta] + [0] * 9])\n",
    "    model_output = model(betas=betas,body_pose=pose_params)\n",
    "    body = Body3D(model_output.vertices.detach().numpy()[0], model.faces)\n",
    "    chest_2d, chest_location, chest_length = body.chest()\n",
    "    hip_2d, hip_location, hip_length = body.hip()\n",
    "    x.append(beta)\n",
    "    height.append(body.height())\n",
    "    weight.append(body.weight())\n",
    "    chest.append(chest_length)\n",
    "    hip.append(hip_length)"
   ]
  },
  {
   "cell_type": "code",
   "execution_count": 6,
   "id": "680fb434",
   "metadata": {},
   "outputs": [],
   "source": [
    "import trimesh"
   ]
  },
  {
   "cell_type": "code",
   "execution_count": 7,
   "id": "d16ce4e4",
   "metadata": {},
   "outputs": [],
   "source": [
    "female = \"\"\"ankle_circle\n",
    "v 3203 3202 3205 3204 3207 3208 3326 3325 3324 3209 3199 3198 3210 3201 3200\n",
    "v 3331 3330 3329 3328 3327 3469 3335 3334 3333 3332 3432 3433 3434 3436 3435\n",
    "v 3416 3415 3417 3418 3401 3400 3399 3370 3379 3380 3381 3391 3390 3392 3393 3395\n",
    "v 6603 6602 6606 6604 6607 6608 6725 6726 6724 6609 6599 6598 6610 6601 6600\n",
    "v 6730 6731 6729 6727 6728 6869 6735 6734 6732 6733 6832 6833 6834 6836 6835\n",
    "v 6790 6791 6781 6780 6779 6770 6799 6800 6801 6818 6817 6815 6816 6794 6793 6792\n",
    "bust_circle\n",
    "v 3077 2871 691 686 599 598 669 668 1421 1424 613 1197 1196 1423 645 642 736 723 893 2850 2849 3025 3505 6475 6311 6310 4379 4212 4130 4131 4895 4683 4682 4099 4898 4894 4156 4159 4086 4089 4174 4179 6331\n",
    "v 3077 2871 691 684 687 943 3042 3040 3041 3044 3043 612 613 1197 1196 1423 645 642 736 723 893 2850 2849 3025 3505 6475 6311 6310 4379 4212 4130 4131 4895 4683 4682 4099 4100 6490 6491 6487 6488 6489 4428 4173 4172 4179 6331\n",
    "v 4099 4897 4893 4157 4158 4087 4088 4175 4179 6331 3077 2871 691 685 600 601 670 671 1420 1425 613 1197 1196 1423 645 642 736 723 893 2850 2849 3025 3505 6475 6311 6310 4379 4212 4130 4131 4895 4683 4682\n",
    "bicep_circle\n",
    "v 1870 1871 1510 1508 1860 1874 1875 1883 1882 2988 1889 1888 2996 2991 1892 1878 1877 2902 718 719 1869 1867 1866 1865 769 772\n",
    "v 1415 1343 1342 1400 1443 1442 1440 1439 2989 1358 1357 2995 2992 774 773 1876 1901 1433 1432 785 784 1282 1502 770 771 1538\n",
    "v 1430 1431 786 787 1281 777 780 1543 1507 1416 1340 1341 1399 1444 1445 1441 1438 2990 1355 1356 2994 2993 775 776 1902 1903\n",
    "v 2895 2984 2982 2980 2978 2900 1261 1260 1413 792 791 778 779 1411 1410 1428 1429 1408 1407 1505 1506\n",
    "v 4258 5331 5332 4981 4980 5321 5335 5336 5343 5344 6447 5349 5350 6455 6450 5353 5337 5338 6361 4206 4205 5330 5328 5326 5327 4257\n",
    "v 5009 4888 4817 4818 4872 4918 4915 4913 4914 6448 4831 4832 6454 6451 4264 4261 5339 5362 4904 4905 4275 4272 4763 4974 4260 4259\n",
    "v 4903 4906 4274 4273 4764 4265 4266 5012 4979 4889 4816 4819 4873 4917 4916 4912 4911 6449 4830 4833 6453 6452 4263 4262 5364 5363\n",
    "v 4742 4743 4887 4280 4281 4268 4267 4884 4885 4902 4901 4879 4880 4978 4977 6354 6443 6441 6440 6437 6359\n",
    "bust_to_bust\n",
    "v 6482 3037\n",
    "v 6487 3041\n",
    "v 4159 669\n",
    "v 6477 3030\n",
    "v 6488 3040\n",
    "v 4086 598\n",
    "v 6478 3033\n",
    "v 6489 3042\n",
    "v 4089 599\n",
    "calc_circle\n",
    "v 1181 1090 1093 1527 1525 1153 1151 1177 1102 1098 1101 1082 1083 1468 1183\n",
    "v 1464 1091 1092 1528 1088 1087 1155 1371 1103 1099 1100 1097 1096 1469 1467\n",
    "v 1466 1108 1111 1530 1089 1086 1154 1372 1074 1077 1470 1094 1095 1473 1465\n",
    "v 4576 4667 4668 4942 4571 4568 4585 4584 4588 4662 4637 4638 4996 4997 4577\n",
    "v 4579 4937 4939 4941 4582 4581 4586 4587 4589 4844 4641 4575 4574 4999 4578\n",
    "v 4594 4940 4938 4946 4583 4580 4943 4561 4560 4845 4640 4572 4573 5000 4595\n",
    "elbow_circle\n",
    "v 5112 5168 5171 5207 5087 5083 5082 5163 5132 5133 5036 5035 5192 5097 5096 5113\n",
    "v 5092 5169 5170 5221 5086 5084 5085 5164 5212 5213 5033 5034 5193 5098 5099 5093\n",
    "v 5202 5205 5126 5127 5371 5090 5091 5135 5124 5125 5120 5121 5134 5116 5117 5194 5131 5130\n",
    "v 1620 1621 1910 1660 1657 1736 1732 1662 1661 1725 1646 1647 1664 1650 1651 1654 1655 1666\n",
    "v 1700 1699 1643 1644 1627 1630 1723 1566 1565 1665 1663 1694 1613 1616 1618 1738\n",
    "v 1701 1702 1623 1626 1628 1629 1724 1567 1564 1744 1743 1695 1614 1615 1617 1752\n",
    "hip_circle\n",
    "v 3120 4729 4730 6530 6531 6538 6515 6508 4296 4297 4310 4418 4984 4985 4400 4398 4691 4348 4349 3510 865 862 1206 912 914 1512 1513 932 823 809 810 3085 3091 3115 3108 3109 1246 1247\n",
    "v 3484 4326 4327 6529 6532 6534 6514 6510 4295 4298 4311 4352 4353 4983 4399 4398 4691 4348 4349 3510 865 862 1206 912 915 1511 869 866 822 808 807 3086 3090 3110 3107 3106 843 840\n",
    "v 3119 6541 6539 6540 6559 6558 6557 6509 4919 4920 4927 6549 6554 6873 4951 4401 4759 4969 4814 4815 3145 1339 1338 1497 1276 913 1480 3475 3133 3128 1454 1446 1447 3084 3136 3137 3138 3116 3117 3118\n",
    "v 3141 6561 6560 6528 6527 6526 6518 6517 6551 6550 4801 4802 4950 6877 6555 4952 1479 3134 3479 1477 1322 1321 3129 3130 3094 3093 3103 3105 3104 3139 3140\n",
    "knee_circle\n",
    "v 1047 1055 1054 1052 1053 1069 1051 1049 1050 1062 1061 1523 1059 1058 1149 1369 1048\n",
    "v 1043 1044 1012 1010 1008 1004 1005 1002 999 998 995 1522 1015 1016 1148 1018 1019\n",
    "v 1178 1073 1070 1067 1068 1066 1064 1065 1063 1060 1524 1056 1057 1150 1370\n",
    "v 4533 4534 4842 4635 4544 4543 4994 4549 4548 4535 4536 4537 4554 4538 4539 4540 4541\n",
    "v 4529 4505 4506 4634 4500 4501 4993 4481 4482 4485 4486 4491 4492 4493 4495 4498 4532\n",
    "v 4664 4843 4636 4545 4542 4995 4546 4547 4550 4551 4552 4555 4553 4556 4558\n",
    "naturale_waist_circle\n",
    "v 3504 1335 1332 1345 1344 664 663 656 655 630 633 721 798 797 2836 2833 1251 1248 3020 3023 6472 4731 4732 6294 6295 4287 4286 4209 4119 4118 4145 4144 4153 4152 4821 4820 4808 4809\n",
    "v 3500 1336 917 916 919 918 665 662 657 654 631 632 720 799 796 890 889 3124 3018 3019 3502 6473 6474 6545 4376 4375 4284 4285 4208 4120 4121 4142 4143 4150 4151 4406 4405 4403 4402 4812\n",
    "v 1769 858 861 920 855 679 678 705 938 677 676 800 802 801 887 888 2930 2914 2913 3022 6373 6372 6387 4374 4372 4289 4290 4288 4164 4165 4424 4193 4166 4167 4341 4404 4345 4344\n",
    "v 3503 859 860 1203 856 857 1448 1449 939 846 830 831 844 845 886 2928 2929 1779 1782 3021 5245 5244 6388 6389 4373 4330 4331 4316 4317 4332 4425 4921 4922 4342 4343 4689 4346 4347\n",
    "v 3507 2922 2923 2925 2920 2921 2926 2927 2924 2919 2915 2916 2917 2918 2911 2910 3122 1780 1781 1784 5246 5247 6544 6371 6370 6376 6377 6374 6375 6378 6383 6385 6386 6379 6380 6384 6381 6382\n",
    "neck_base_circle\n",
    "v 3164 3919 3769 3725 3734 4792 4305 4307 4075 4072 4189 4900 6496 3169 3062 1427 701 584 585 820 817 1312 222 211 256 424\n",
    "v 3164 3919 3769 3725 3734 4792 4305 4307 4074 4072 4782 3171 1300 584 586 820 817 1312 222 211 256 424\n",
    "v 3164 3919 3769 3725 3734 4792 4305 4307 4075 4780 4781 4187 6333 3078 2872 700 1299 1298 585 820 817 1312 222 211 256 424\n",
    "neck_side_to_wrist\n",
    "v 3721 3730 4793 4305 4306 4230 4097 4094 4198 4270 4724 4721 5325 5322 6469 4124 4125 5321 4872 4873 4880 4881 4791 4790 5148 5108 5111 5122 5125 5082 5085 5376 5211 5161 5160 5028 5025 5412 5413 5387 5386 5570 5480\n",
    "v 5534 5573 5384 5385 6335 5409 5162 5020 5019 5067 5066 5375 5084 5083 5124 5123 5110 5109 5149 4795 4794 6282 4978 4917 4918 5335 5293 5290 6470 5342 5285 5282 5310 4269 4271 5272 4232 4231 4294 4291 4792 3731 3720\n",
    "v 208 219 1312 803 804 744 743 1810 782 781 1849 1821 1822 1881 3011 1829 1830 1874 1443 1444 1505 2821 1315 1314 1680 1642 1641 1656 1655 1616 1615 1914 1597 1598 1550 1551 1693 1946 2874 1923 1924 2112\n",
    "v 2109 1926 1925 1950 1951 1556 1557 1692 1691 1742 1915 1614 1613 1654 1653 1640 1639 1679 1310 1311 1406 1407 1399 1400 1860 635 636 3010 1861 1862 1238 1239 783 711 606 607 742 818 817 1313 218 207\n",
    "neck_circle\n",
    "v 3049 333 308 309 296 174 175 299 224 223 300 301 305 302 3814 3813 3812 3736 3735 3811 3686 3687 3808 3817 3818 3840\n",
    "v 3050 334 284 285 150 153 298 206 209 213 212 257 423 460 3918 3768 3724 3723 3719 3718 3810 3663 3662 3797 3796 3839\n",
    "v 3057 451 214 217 151 152 297 207 208 210 211 256 424 3164 3919 3769 3725 3722 3720 3721 3809 3664 3665 3727 3726 3942\n",
    "v 3068 1331 215 216 440 441 452 218 219 222 425 426 453 829 3944 3921 3920 3734 3731 3730 3943 3935 3934 3728 3729 4807\n",
    "v 3059 572 571 1320 1319 1279 1280 1313 1312 824 825 826 827 828 4315 4314 4313 4312 4792 4793 4761 4762 4799 4800 4061 4060\n",
    "shoulder_to_shoulder\n",
    "v 1862 1238 1239 783 711 606 607 742 818 803 824 425 426 453 829 3944 3921 3920 4312 4291 4306 4230 4097 4094 4198 4270 4724 4721 5325\n",
    "v 5342 5285 5282 5310 4269 4271 5272 4232 4231 4294 4292 4301 4302 4702 3470 1219 812 813 806 804 744 743 1810 782 781 1849 1821 1822\n",
    "v 1862 5325\n",
    "v 5342 1822\n",
    "shoulder_to_wrist\n",
    "v 5322 6469 4124 4125 5321 4872 4873 4880 4881 4791 4790 5148 5108 5111 5122 5125 5082 5085 5376 5211 5161 5160 5028 5025 5412 5413 5387 5386 5570 5480\n",
    "v 5534 5573 5384 5385 6335 5409 5162 5020 5019 5067 5066 5375 5084 5083 5124 5123 5110 5109 5149 4795 4794 6282 4978 4917 4918 5335 5293 5290 6470 5342\n",
    "v 6353 6352 5291 5292 5336 4915 4916 4977 6283 4850 4849 5151 5150 5209 5208 5135 5221 5374 5373 5070 5069 5060 5059 5427 5421 5424 5430 5702 5740 5644\n",
    "v 1862 1861 3010 636 635 1860 1400 1399 1407 1406 1311 1310 1679 1639 1640 1653 1654 1613 1614 1915 1742 1691 1692 1557 1556 1951 1950 1925 1926 2109\n",
    "v 2112 1924 1923 2874 1946 1693 1551 1550 1598 1597 1914 1615 1616 1655 1656 1641 1642 1680 1314 1315 2821 1505 1444 1443 1874 1830 1829 3011 1881 1822\n",
    "v 1823 2892 2893 1832 1831 1875 1442 1445 1506 2822 1379 1376 1682 1681 1739 1740 1666 1752 1576 1571 1570 1549 1548 1741 1971 1921 1920 1970 2235 2234\n",
    "v 1881 1739 2209\n",
    "v 5322 5110 5644\n",
    "sideneck_to_bust\n",
    "v 3721 3943 4762 4073 4072 4780 4076 4079 4081 4085 6319 6479 6478 6489\n",
    "v 6488 6477 6480 4111 4154 4080 4078 4077 4779 4308 3730 3720\n",
    "v 3721 4779 6488\n",
    "v 943 1351 1352 2857 594 595 666 592 590 591 1297 585 586 821 1279 297\n",
    "v 297 1279 821 586 585 1297 591 1808 1295 1296 624 625 2858 3032 3033 3042\n",
    "v 297 1297 3042\n",
    "thigh_circle\n",
    "v 870 871 1361 1362 1514 1534 1222 1221 1164 1165 879 1452 1161 1159 1500 1501 1478 1229 1228 1263 1262 833 834\n",
    "v 3126 3127 3135 3131 3132 1159 1500 1501 1478 1229 1228 1263 1262 833 834 870 1361 1137\n",
    "v 834 870 1361 1137 1140 1475 1226 1225 1162 1159 1500 1501 1478 1229 1228 1263 1262 833\n",
    "v 1230 900 1138 1139 1360 1227 1224 1274 1499 876 875 872 847 850 944 854 853\n",
    "v 933 936 1359 963 908 911 1366 877 874 873 848 849 902 851 852 897 900\n",
    "v 4361 4839 4395 4394 4450 4835 4420 4419 4384 4383 4340 4337 4389 4335 4336 4358 4360\n",
    "v 4626 4836 4356 4357 4713 4339 4338 4430 4334 4333 4359 4363 4362 4971 4757 4707 4708 4834 4625\n",
    "v 4925 4970 4705 4706 5005 4986 4837 4836 4356 4357 4320 4321 4746 4745 4712 4711 4949 4973 4972 4645 4646 6552\n",
    "v 4972 4645 4646 4710 4709 4948 4624 4623 4837 4356 4324 4320 4321 4746 4745 4712 4711 4949 4973\n",
    "trouser_waist_circle\n",
    "v 3021 5245 5244 6388 6389 4373 4330 4331 4316 4317 6385 6386 6379 6568 6569 3160 3152 3153 2921 2926 2927 830 831 844 845 886 2928 2929 1779 1782\n",
    "v 3021 5245 5244 6388 6389 4373 4330 4331 4316 4317 6378 6383 6572 6573 6566 6567 5265 5268 5267 1806 1805 1804 1803 3150 3151 3156 3157 2924 2919 830 831 844 845 886 2928 2929 1779 1782\n",
    "v 1784 5246 5247 6544 6371 6370 6376 6377 6374 6375 6378 6570 6572 6573 5263 5266 5265 4351 4350 1807 864 863 1803 1802 1801 3156 3157 3154 2919 2915 2916 2917 2918 2911 2910 3122 1780 1781\n",
    "underbust_circle\n",
    "v 1329 1200 927 928 658 659 1757 1758 940 618 621 1268 725 894 1212 767 766 3017 4256 4255 4695 4378 4211 4751 4107 4106 4426 5225 5224 4149 4146 4415 4413 4688\n",
    "v 1330 1201 1202 2846 1426 615 614 2883 941 619 620 1269 794 2844 1211 768 765 3016 4253 4254 4694 6304 4283 4752 4108 4109 4427 6342 4102 4105 4899 6307 4686 4687\n",
    "wrist_circle\n",
    "v 5663 5644 5643 5690 5533 5481 5479 5558 5476 5475 5486 5549 5495 5494 5527 5664\n",
    "v 5670 5740 5695 5689 5534 5480 5571 5560 5559 5561 5562 5550 5521 5520 5569 5567\n",
    "v 5669 5702 5696 5691 5573 5570 5572 5564 5563 5565 5566 5609 5608 5568 5567 5668\n",
    "v 5705 5430 5431 5383 5384 5386 5388 5389 5703 5704 5747 5396 5397 5440 5404 5405\n",
    "v 2015 2097 2020 2018 2072 2229 2182 2185 2202 2203 2066 2033 2032 2088 2025 2016\n",
    "v 2100 2099 2098 2111 2019 2073 2228 2234 2279 2209 2207 2107 2060 2059 2089 2101\n",
    "v 2104 2103 2102 2110 2109 2112 2230 2235 2241 2208 2206 2106 2108 2147 2148 2105\n",
    "v 2286 2243 2242 1930 1927 1926 1924 1922 1970 1969 2244 1945 1943 1979 1938 1935\"\"\""
   ]
  },
  {
   "cell_type": "code",
   "execution_count": 8,
   "id": "36fdb805",
   "metadata": {},
   "outputs": [
    {
     "data": {
      "text/plain": [
       "Parameter containing:\n",
       "tensor([[0., 0., 0., 0., 0., 0., 0., 0., 0., 0.]], requires_grad=True)"
      ]
     },
     "execution_count": 8,
     "metadata": {},
     "output_type": "execute_result"
    }
   ],
   "source": [
    "import torch\n",
    "model_output.betas"
   ]
  },
  {
   "cell_type": "code",
   "execution_count": 9,
   "id": "0b099763",
   "metadata": {},
   "outputs": [
    {
     "ename": "NameError",
     "evalue": "name 'vertices_idx_by_measurement' is not defined",
     "output_type": "error",
     "traceback": [
      "\u001b[0;31m---------------------------------------------------------------------------\u001b[0m",
      "\u001b[0;31mNameError\u001b[0m                                 Traceback (most recent call last)",
      "Cell \u001b[0;32mIn[9], line 1\u001b[0m\n\u001b[0;32m----> 1\u001b[0m \u001b[38;5;28msorted\u001b[39m(\u001b[43mvertices_idx_by_measurement\u001b[49m\u001b[38;5;241m.\u001b[39mkeys())\n",
      "\u001b[0;31mNameError\u001b[0m: name 'vertices_idx_by_measurement' is not defined"
     ]
    }
   ],
   "source": [
    "sorted(vertices_idx_by_measurement.keys())"
   ]
  },
  {
   "cell_type": "code",
   "execution_count": 10,
   "id": "81d9d39f",
   "metadata": {},
   "outputs": [],
   "source": [
    "def make_measurements(betas):\n",
    "    pose_params = torch.zeros(1,69)\n",
    "    pose_params[0][47] = 5.6\n",
    "    pose_params[0][50] = -5.6\n",
    "    model_output = model(betas=betas,body_pose=pose_params)\n",
    "    vertices = model_output.vertices[0]\n",
    "    \n",
    "    measurements = torch.zeros(len(sorted(vertices_idx_by_measurement.keys())))\n",
    "    \n",
    "    for i, measurement_name in enumerate(sorted(vertices_idx_by_measurement.keys())):\n",
    "        print(measurement_name)\n",
    "        for path in vertices_idx_by_measurement[measurement_name]:\n",
    "            path_length = torch.zeros(1)\n",
    "            for j in range(len(path)):\n",
    "                #print(path[j])\n",
    "                path_length += torch.sum(torch.square(vertices[path[j]] - vertices[path[j-1]]))\n",
    "            #print(path_length)\n",
    "            print(torch.sqrt(path_length)[0])\n",
    "            measurements[i] += torch.sqrt(path_length)[0]\n",
    "        measurements[i] /= len(vertices_idx_by_measurement[measurement_name])\n",
    "    \n",
    "    return measurements"
   ]
  },
  {
   "cell_type": "code",
   "execution_count": 11,
   "id": "ff80481c",
   "metadata": {},
   "outputs": [
    {
     "ename": "NameError",
     "evalue": "name 'vertices_idx_by_measurement' is not defined",
     "output_type": "error",
     "traceback": [
      "\u001b[0;31m---------------------------------------------------------------------------\u001b[0m",
      "\u001b[0;31mNameError\u001b[0m                                 Traceback (most recent call last)",
      "Cell \u001b[0;32mIn[11], line 1\u001b[0m\n\u001b[0;32m----> 1\u001b[0m \u001b[43mmake_measurements\u001b[49m\u001b[43m(\u001b[49m\u001b[43mtorch\u001b[49m\u001b[38;5;241;43m.\u001b[39;49m\u001b[43mzeros\u001b[49m\u001b[43m(\u001b[49m\u001b[38;5;241;43m1\u001b[39;49m\u001b[43m,\u001b[49m\u001b[38;5;241;43m10\u001b[39;49m\u001b[43m)\u001b[49m\u001b[43m)\u001b[49m\n",
      "Cell \u001b[0;32mIn[10], line 8\u001b[0m, in \u001b[0;36mmake_measurements\u001b[0;34m(betas)\u001b[0m\n\u001b[1;32m      5\u001b[0m model_output \u001b[38;5;241m=\u001b[39m model(betas\u001b[38;5;241m=\u001b[39mbetas,body_pose\u001b[38;5;241m=\u001b[39mpose_params)\n\u001b[1;32m      6\u001b[0m vertices \u001b[38;5;241m=\u001b[39m model_output\u001b[38;5;241m.\u001b[39mvertices[\u001b[38;5;241m0\u001b[39m]\n\u001b[0;32m----> 8\u001b[0m measurements \u001b[38;5;241m=\u001b[39m torch\u001b[38;5;241m.\u001b[39mzeros(\u001b[38;5;28mlen\u001b[39m(\u001b[38;5;28msorted\u001b[39m(\u001b[43mvertices_idx_by_measurement\u001b[49m\u001b[38;5;241m.\u001b[39mkeys())))\n\u001b[1;32m     10\u001b[0m \u001b[38;5;28;01mfor\u001b[39;00m i, measurement_name \u001b[38;5;129;01min\u001b[39;00m \u001b[38;5;28menumerate\u001b[39m(\u001b[38;5;28msorted\u001b[39m(vertices_idx_by_measurement\u001b[38;5;241m.\u001b[39mkeys())):\n\u001b[1;32m     11\u001b[0m     \u001b[38;5;28mprint\u001b[39m(measurement_name)\n",
      "\u001b[0;31mNameError\u001b[0m: name 'vertices_idx_by_measurement' is not defined"
     ]
    }
   ],
   "source": [
    "make_measurements(torch.zeros(1,10))"
   ]
  },
  {
   "cell_type": "code",
   "execution_count": 12,
   "id": "a9f05c2c",
   "metadata": {},
   "outputs": [
    {
     "ename": "NameError",
     "evalue": "name 'optim_betas' is not defined",
     "output_type": "error",
     "traceback": [
      "\u001b[0;31m---------------------------------------------------------------------------\u001b[0m",
      "\u001b[0;31mNameError\u001b[0m                                 Traceback (most recent call last)",
      "Cell \u001b[0;32mIn[12], line 1\u001b[0m\n\u001b[0;32m----> 1\u001b[0m make_measurements(\u001b[43moptim_betas\u001b[49m)\n",
      "\u001b[0;31mNameError\u001b[0m: name 'optim_betas' is not defined"
     ]
    }
   ],
   "source": [
    "make_measurements(optim_betas)"
   ]
  },
  {
   "cell_type": "code",
   "execution_count": null,
   "id": "e0d52dc9",
   "metadata": {},
   "outputs": [],
   "source": [
    "def test_measurement(betas, measurement_name='elbow_circle'):\n",
    "    pose_params = torch.zeros(1,69)\n",
    "    pose_params[0][47] = 5.6\n",
    "    pose_params[0][50] = -5.6\n",
    "    model_output = model(betas=betas,body_pose=pose_params)\n",
    "    result = torch.zeros(1)\n",
    "    for i in range(len(vertices_idx_by_measurement[measurement_name][0])):\n",
    "        current_idx = vertices_idx_by_measurement[measurement_name][0][i]\n",
    "        prev_idx = vertices_idx_by_measurement[measurement_name][0][i - 1]\n",
    "        result += torch.sum(torch.square(model_output.vertices[0][current_idx] - model_output.vertices[0][prev_idx]))\n",
    "    return torch.sqrt(result)\n",
    "print(test_measurement(torch.zeros(1,10)))\n",
    "torch.mean(torch.square(test_measurement(torch.zeros(1,10)) - torch.tensor([1])))"
   ]
  },
  {
   "cell_type": "code",
   "execution_count": null,
   "id": "1e59ef9f",
   "metadata": {},
   "outputs": [],
   "source": [
    "pose_params = torch.zeros(1,69)\n",
    "pose_params[0][47] = 5.6\n",
    "pose_params[0][50] = -5.6\n",
    "model_output = model(betas=torch.zeros(1,10),body_pose=pose_params)\n",
    "model_output.body_pose"
   ]
  },
  {
   "cell_type": "code",
   "execution_count": 13,
   "id": "8609ac33",
   "metadata": {},
   "outputs": [],
   "source": [
    "import copy\n",
    "def measurements_ik_solver(model, target, init_betas, device='cpu', max_iter=20,\n",
    "                               mse_threshold=1e-8):\n",
    "    optim_betas = copy.deepcopy(init_betas)\n",
    "    optim_betas = optim_betas.reshape(-1).unsqueeze(0).to(device)\n",
    "    optim_betas = optim_betas.requires_grad_(True)\n",
    "\n",
    "    optimizer = torch.optim.Adam([optim_betas], lr=0.1)\n",
    "    last_mse = 0\n",
    "    \n",
    "    default_measurements = make_measurements(torch.zeros(1,10))\n",
    "\n",
    "    for i in range(max_iter):\n",
    "        mse = torch.mean(torch.square((make_measurements(optim_betas) - target) / default_measurements))\n",
    "        print(mse)\n",
    "        if abs(mse - last_mse) < mse_threshold:\n",
    "            return optim_betas\n",
    "        optimizer.zero_grad()\n",
    "        mse.backward(retain_graph=True)\n",
    "        optimizer.step()\n",
    "        last_mse = mse\n",
    "\n",
    "    print(f'IK final loss {last_mse.item():.3f}')\n",
    "    return optim_betas"
   ]
  },
  {
   "cell_type": "code",
   "execution_count": null,
   "id": "af9469dc",
   "metadata": {},
   "outputs": [],
   "source": [
    "make_measurements(torch.zeros(1,10)).detach()"
   ]
  },
  {
   "cell_type": "code",
   "execution_count": null,
   "id": "0f7d1366",
   "metadata": {},
   "outputs": [],
   "source": [
    "target_measurements = copy.deepcopy(make_measurements(torch.zeros(1,10)).detach())\n",
    "target_measurements[1] *= 1.8"
   ]
  },
  {
   "cell_type": "code",
   "execution_count": null,
   "id": "193dbe79",
   "metadata": {},
   "outputs": [],
   "source": [
    "optim_betas = measurements_ik_solver(model, target_measurements, torch.zeros(1,10))"
   ]
  },
  {
   "cell_type": "code",
   "execution_count": null,
   "id": "09200d68",
   "metadata": {},
   "outputs": [],
   "source": [
    "print(make_measurements(optim_betas))\n",
    "print(make_measurements(torch.zeros(1,10)))"
   ]
  },
  {
   "cell_type": "code",
   "execution_count": null,
   "id": "8870d289",
   "metadata": {},
   "outputs": [],
   "source": [
    "optim_betas"
   ]
  },
  {
   "cell_type": "code",
   "execution_count": null,
   "id": "66e41019",
   "metadata": {},
   "outputs": [],
   "source": [
    "torch.sum(torch.square(model_output.vertices[0][0] - model_output.vertices[0][1]))"
   ]
  },
  {
   "cell_type": "code",
   "execution_count": null,
   "id": "46d94305",
   "metadata": {},
   "outputs": [],
   "source": [
    "a = torch.zeros(1)"
   ]
  },
  {
   "cell_type": "code",
   "execution_count": null,
   "id": "13febd3c",
   "metadata": {},
   "outputs": [],
   "source": [
    "a += torch.sum(torch.square(model_output.vertices[0][0] - model_output.vertices[0][1]))"
   ]
  },
  {
   "cell_type": "code",
   "execution_count": null,
   "id": "cf5f61cf",
   "metadata": {},
   "outputs": [],
   "source": [
    "a"
   ]
  },
  {
   "cell_type": "code",
   "execution_count": 14,
   "id": "d691d5ef",
   "metadata": {},
   "outputs": [
    {
     "name": "stdout",
     "output_type": "stream",
     "text": [
      "ankle_circle\n",
      "bust_circle\n",
      "bicep_circle\n",
      "bust_to_bust\n",
      "calc_circle\n",
      "elbow_circle\n",
      "hip_circle\n",
      "knee_circle\n",
      "naturale_waist_circle\n",
      "neck_base_circle\n",
      "neck_side_to_wrist\n",
      "neck_circle\n",
      "shoulder_to_shoulder\n",
      "shoulder_to_wrist\n",
      "sideneck_to_bust\n",
      "thigh_circle\n",
      "trouser_waist_circle\n",
      "underbust_circle\n",
      "wrist_circle\n"
     ]
    }
   ],
   "source": [
    "vertices_idx_by_measurement = {}\n",
    "points_vars_by_measurement = {}\n",
    "measurements_raw = female.split('\\n')\n",
    "for i in range(len(measurements_raw)):\n",
    "    measurement_raw = measurements_raw[i]\n",
    "    if len(measurement_raw.split(' ')) == 1:\n",
    "        print(measurement_raw)\n",
    "        current_measurement_name = measurement_raw\n",
    "        points_vars_by_measurement[current_measurement_name] = []\n",
    "        vertices_idx_by_measurement[current_measurement_name] = []\n",
    "        continue\n",
    "    vertices_idxs = [int(el) for el in measurement_raw.split(' ')[1:]]\n",
    "    vertices_idx_by_measurement[current_measurement_name].append(vertices_idxs)\n",
    "    points_to_append = [model_output.vertices.detach().numpy()[0][el] for el in vertices_idxs]\n",
    "    points_vars_by_measurement[current_measurement_name].append(points_to_append)"
   ]
  },
  {
   "cell_type": "code",
   "execution_count": null,
   "id": "dff341df",
   "metadata": {},
   "outputs": [],
   "source": [
    "points_vars_by_measurement"
   ]
  },
  {
   "cell_type": "code",
   "execution_count": null,
   "id": "4bc3db07",
   "metadata": {},
   "outputs": [],
   "source": [
    "paths_female = {\n",
    "    \"neck_base_circle_1\": \"3164 3919 3769 3725 3734 4792 4305 4307 4075 4072 4189 4900 6496 3169 3062 1427 701 584 585 820 817 1312 222 211 256 424\",\n",
    "    \"neck_base_circle_2\": \"3164 3919 3769 3725 3734 4792 4305 4307 4074 4072 4782 3171 1300 584 586 820 817 1312 222 211 256 424\",\n",
    "    \"neck_base_circle_3\": \"3164 3919 3769 3725 3734 4792 4305 4307 4075 4780 4781 4187 6333 3078 2872 700 1299 1298 585 820 817 1312 222 211 256 424\",\n",
    "    \"ankle_circle_1\": \"3203 3202 3205 3204 3207 3208 3326 3325 3324 3209 3199 3198 3210 3201 3200\",\n",
    "    \"ankle_circle_2\": \"3331 3330 3329 3328 3327 3469 3335 3334 3333 3332 3432 3433 3434 3436 3435\",\n",
    "    \"anke_circle_3\": \"3416 3415 3417 3418 3401 3400 3399 3370 3379 3380 3381 3391 3390 3392 3393 3395\",\n",
    "    \"\"\n",
    "}\n",
    "points = {}\n",
    "for elem in paths:\n",
    "    vertices = [int(el) for el in paths[elem].split(' ')]\n",
    "    paths[elem] = vertices\n",
    "    points[elem] = [model_output.vertices.detach().numpy()[0][el] for el in vertices]"
   ]
  },
  {
   "cell_type": "code",
   "execution_count": null,
   "id": "ec3b71cf",
   "metadata": {},
   "outputs": [],
   "source": [
    "model_output.vertices.detach().numpy()[0]"
   ]
  },
  {
   "cell_type": "code",
   "execution_count": null,
   "id": "3884e193",
   "metadata": {},
   "outputs": [],
   "source": [
    "points_vars_by_measurement[\"sideneck_to_bust\"][0]"
   ]
  },
  {
   "cell_type": "code",
   "execution_count": 23,
   "id": "3715342e",
   "metadata": {},
   "outputs": [
    {
     "name": "stdout",
     "output_type": "stream",
     "text": [
      "<trimesh.PointCloud(vertices.shape=(6980, 3))>\n"
     ]
    }
   ],
   "source": [
    "from random import randint\n",
    "points = trimesh.PointCloud(model_output.vertices.detach().numpy()[0], colors=[2,255,255])\n",
    "for measurement_name in points_vars_by_measurement:\n",
    "    if measurement_name != \"calc_circle\":\n",
    "        continue\n",
    "    colour = [randint(0, 255), randint(0, 255), randint(0, 255)]\n",
    "    for points_var in points_vars_by_measurement[measurement_name]:\n",
    "        points = points + trimesh.PointCloud(np.array(points_var), colors=colour)\n",
    "print(points)\n",
    "#points_2 = trimesh.PointCloud(np.array(points_vars_by_measurement[\"neck_base_circle\"][1]), colors=[129,0,0])\n",
    "#points.show()"
   ]
  },
  {
   "cell_type": "code",
   "execution_count": null,
   "id": "8cd6ed32",
   "metadata": {},
   "outputs": [],
   "source": [
    "trimesh.Scene(points).show()"
   ]
  },
  {
   "cell_type": "code",
   "execution_count": null,
   "id": "83eb4d1f",
   "metadata": {},
   "outputs": [],
   "source": [
    "trimesh.Scene(points).show()"
   ]
  },
  {
   "cell_type": "code",
   "execution_count": 26,
   "id": "df58871e",
   "metadata": {},
   "outputs": [],
   "source": [
    "points.show()"
   ]
  },
  {
   "cell_type": "code",
   "execution_count": null,
   "id": "29ab1fbe",
   "metadata": {},
   "outputs": [],
   "source": [
    "mesh = trimesh.Trimesh(model_output.vertices.detach().numpy()[0], model.faces)\n",
    "mesh.show()\n",
    "#points.show()"
   ]
  },
  {
   "cell_type": "code",
   "execution_count": null,
   "id": "b6023a90",
   "metadata": {},
   "outputs": [],
   "source": [
    "plt.plot(x, height)"
   ]
  },
  {
   "cell_type": "code",
   "execution_count": null,
   "id": "c3f2e963",
   "metadata": {},
   "outputs": [],
   "source": [
    "plt.plot(x, weight)"
   ]
  },
  {
   "cell_type": "code",
   "execution_count": null,
   "id": "92e62987",
   "metadata": {},
   "outputs": [],
   "source": [
    "plt.plot(x, chest)"
   ]
  },
  {
   "cell_type": "code",
   "execution_count": null,
   "id": "2879ac5e",
   "metadata": {},
   "outputs": [],
   "source": [
    "plt.plot(x, hip)"
   ]
  },
  {
   "cell_type": "code",
   "execution_count": null,
   "id": "1e617003",
   "metadata": {},
   "outputs": [],
   "source": [
    "a = make_measurements(torch.zeros(1,10))\n",
    "b = make_measurements(torch.ones(1,10))"
   ]
  },
  {
   "cell_type": "code",
   "execution_count": null,
   "id": "bfd10537",
   "metadata": {},
   "outputs": [],
   "source": [
    "a"
   ]
  },
  {
   "cell_type": "code",
   "execution_count": null,
   "id": "37b32f5a",
   "metadata": {},
   "outputs": [],
   "source": [
    "b"
   ]
  },
  {
   "cell_type": "code",
   "execution_count": null,
   "id": "b81cce2f",
   "metadata": {},
   "outputs": [],
   "source": [
    "torch.mean(torch.square((a - b) / a))"
   ]
  },
  {
   "cell_type": "code",
   "execution_count": null,
   "id": "ec946047",
   "metadata": {},
   "outputs": [],
   "source": []
  }
 ],
 "metadata": {
  "kernelspec": {
   "display_name": "Python 3 (ipykernel)",
   "language": "python",
   "name": "python3"
  },
  "language_info": {
   "codemirror_mode": {
    "name": "ipython",
    "version": 3
   },
   "file_extension": ".py",
   "mimetype": "text/x-python",
   "name": "python",
   "nbconvert_exporter": "python",
   "pygments_lexer": "ipython3",
   "version": "3.8.0"
  }
 },
 "nbformat": 4,
 "nbformat_minor": 5
}
